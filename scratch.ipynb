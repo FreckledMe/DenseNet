{
 "cells": [
  {
   "cell_type": "code",
   "execution_count": 1,
   "metadata": {},
   "outputs": [],
   "source": [
    "import tensorflow as tf\n",
    "from tensorflow.keras.layers import Conv2D,MaxPooling2D,concatenate,AveragePooling2D,Dropout,Dense,Softmax,BatchNormalization,ReLU,GlobalAveragePooling2D,Dense\n",
    "from tensorflow import keras\n",
    "from tensorflow.keras.optimizers import Adam\n",
    "from tensorflow.keras.losses import SparseCategoricalCrossentropy\n",
    "from tensorflow.keras.metrics import SparseCategoricalAccuracy\n",
    "import tensorflow_datasets as tfds\n",
    "import cv2\n",
    "from tensorflow.keras.utils import plot_model\n",
    "import numpy as np"
   ]
  },
  {
   "cell_type": "code",
   "execution_count": 2,
   "metadata": {},
   "outputs": [],
   "source": [
    "data,info = tfds.load(\n",
    "    'tf_flowers',\n",
    "    split=['train'],\n",
    "    shuffle_files=True,\n",
    "    batch_size=-1,\n",
    "    as_supervised=True,\n",
    "    with_info=True)"
   ]
  },
  {
   "cell_type": "code",
   "execution_count": 3,
   "metadata": {},
   "outputs": [],
   "source": [
    "images,labels = tfds.as_numpy(data[0])"
   ]
  },
  {
   "cell_type": "code",
   "execution_count": 5,
   "metadata": {},
   "outputs": [],
   "source": [
    "def dataset_maker(img_data,labels):\n",
    "    images = []\n",
    "    for img in img_data:\n",
    "        img = cv2.cvtColor(img,cv2.COLOR_BGR2RGB)\n",
    "        img = cv2.resize(img,dsize=(224,224),interpolation=cv2.INTER_AREA)\n",
    "        img = img.astype('float32')\n",
    "        img /= 255\n",
    "        images.append(img)\n",
    "    images = np.array(images)\n",
    "    labels = labels.astype('uint32')\n",
    "    return images,labels"
   ]
  },
  {
   "cell_type": "code",
   "execution_count": 6,
   "metadata": {},
   "outputs": [],
   "source": [
    "images,labels = dataset_maker(images,labels)"
   ]
  },
  {
   "cell_type": "code",
   "execution_count": 7,
   "metadata": {},
   "outputs": [],
   "source": [
    "train_ds = tf.data.Dataset.from_tensor_slices((images[:2900],labels[:2900])).batch(32)\n",
    "test_ds = tf.data.Dataset.from_tensor_slices((images[2900:],labels[2900:])).batch(32)"
   ]
  },
  {
   "cell_type": "code",
   "execution_count": 9,
   "metadata": {},
   "outputs": [],
   "source": [
    "class DenseLayer(keras.layers.Layer):\n",
    "    def __init__(self, growth_rate):\n",
    "        super(DenseLayer, self).__init__()\n",
    "        self.conv1 = Conv2D(filters=4*growth_rate, kernel_size=1, strides=1, padding='same', activation='relu')\n",
    "        self.conv2 = Conv2D(filters=growth_rate, kernel_size=3, strides=1, padding='same', activation='relu')\n",
    "\n",
    "    def call(self, inputs):\n",
    "        x = self.conv1(inputs)\n",
    "        x = self.conv2(x)\n",
    "        return x\n",
    "\n",
    "class TransitionLayer(keras.layers.Layer):\n",
    "    def __init__(self, num_filters):\n",
    "        super(TransitionLayer, self).__init__()\n",
    "        self.conv = Conv2D(filters=num_filters, kernel_size=1, strides=1, padding='same', activation='relu')\n",
    "        self.avgpool = AveragePooling2D(pool_size=2, strides=2, padding='same')\n",
    "\n",
    "    def call(self, inputs):\n",
    "        x = self.conv(inputs)\n",
    "        x = self.avgpool(x)\n",
    "        return x\n",
    "\n",
    "class DenseNet121(keras.Model):\n",
    "    def __init__(self, num_classes):\n",
    "        super(DenseNet121, self).__init__()\n",
    "        \n",
    "        self.conv1 = Conv2D(filters=64, kernel_size=7, strides=2, padding='same', activation='relu')\n",
    "        self.maxpool1 = MaxPooling2D(pool_size=3, strides=2, padding='same')\n",
    "        self.block1 = DenseBlock(num_layers=6, growth_rate=32)\n",
    "        self.transition1 = TransitionLayer(num_filters=128)\n",
    "        self.block2 = DenseBlock(num_layers=12, growth_rate=32)\n",
    "        self.transition2 = TransitionLayer(num_filters=256)\n",
    "        self.block3 = DenseBlock(num_layers=24, growth_rate=32)\n",
    "        self.transition3 = TransitionLayer(num_filters=512)\n",
    "        self.block4 = DenseBlock(num_layers=16, growth_rate=32)\n",
    "        self.avgpool = GlobalAveragePooling2D()\n",
    "        self.fc = Dense(num_classes, activation='softmax')\n",
    "\n",
    "    def call(self, inputs):\n",
    "        x = self.conv1(inputs)\n",
    "        x = self.maxpool1(x)\n",
    "        x = self.block1(x)\n",
    "        x = self.transition1(x)\n",
    "        x = self.block2(x)\n",
    "        x = self.transition2(x)\n",
    "        x = self.block3(x)\n",
    "        x = self.transition3(x)\n",
    "        x = self.block4(x)\n",
    "        x = self.avgpool(x)\n",
    "        outputs = self.fc(x)\n",
    "        return outputs\n",
    "\n",
    "class DenseBlock(tf.keras.layers.Layer):\n",
    "    def __init__(self, num_layers, growth_rate):\n",
    "        super(DenseBlock, self).__init__()\n",
    "        self.layers_list = []\n",
    "        for _ in range(num_layers):\n",
    "            self.layers_list.append(DenseLayer(growth_rate))\n",
    "\n",
    "    def call(self, inputs):\n",
    "        x = inputs\n",
    "        for layer in self.layers_list:\n",
    "            y = layer(x)\n",
    "            x = tf.concat([x, y], axis=-1)\n",
    "        return x\n"
   ]
  },
  {
   "cell_type": "code",
   "execution_count": 10,
   "metadata": {},
   "outputs": [],
   "source": [
    "model = DenseNet121(num_classes=5)"
   ]
  },
  {
   "cell_type": "code",
   "execution_count": 11,
   "metadata": {},
   "outputs": [],
   "source": [
    "loss_object = tf.keras.losses.SparseCategoricalCrossentropy(from_logits=True)\n",
    "\n",
    "optimizer = tf.keras.optimizers.Adam()"
   ]
  },
  {
   "cell_type": "code",
   "execution_count": 12,
   "metadata": {},
   "outputs": [],
   "source": [
    "train_loss = tf.keras.metrics.Mean(name='train_loss')\n",
    "train_accuracy = tf.keras.metrics.SparseCategoricalAccuracy(name='train_accuracy')\n",
    "\n",
    "test_loss = tf.keras.metrics.Mean(name='test_loss')\n",
    "test_accuracy = tf.keras.metrics.SparseCategoricalAccuracy(name='test_accuracy')"
   ]
  },
  {
   "cell_type": "code",
   "execution_count": 13,
   "metadata": {},
   "outputs": [],
   "source": [
    "@tf.function\n",
    "def train_step(images, labels):\n",
    "    with tf.GradientTape() as tape:\n",
    "        predictions = model(images, training=True)\n",
    "        loss = loss_object(labels, predictions)\n",
    "    gradients = tape.gradient(loss, model.trainable_variables)\n",
    "    optimizer.apply_gradients(zip(gradients, model.trainable_variables))\n",
    "    \n",
    "    train_loss(loss)\n",
    "    train_accuracy(labels, predictions)"
   ]
  },
  {
   "cell_type": "code",
   "execution_count": 14,
   "metadata": {},
   "outputs": [],
   "source": [
    "@tf.function\n",
    "def test_step(images, labels):\n",
    "    predictions = model(images, training=False)\n",
    "    t_loss = loss_object(labels, predictions)\n",
    "\n",
    "    test_loss(t_loss)\n",
    "    test_accuracy(labels, predictions)"
   ]
  },
  {
   "cell_type": "code",
   "execution_count": 15,
   "metadata": {},
   "outputs": [
    {
     "name": "stderr",
     "output_type": "stream",
     "text": [
      "c:\\Users\\justf\\miniconda3\\envs\\gpu\\lib\\site-packages\\keras\\backend.py:5582: UserWarning: \"`sparse_categorical_crossentropy` received `from_logits=True`, but the `output` argument was produced by a Softmax activation and thus does not represent logits. Was this intended?\n",
      "  output, from_logits = _get_logits(\n"
     ]
    },
    {
     "name": "stdout",
     "output_type": "stream",
     "text": [
      "Epoch 1, Loss: 1.6070692539215088, Accuracy: 25.34482765197754, Test Loss: 1.55287504196167, Test Accuracy: 26.623376846313477\n",
      "Epoch 2, Loss: 1.505943775177002, Accuracy: 31.517240524291992, Test Loss: 1.4505360126495361, Test Accuracy: 29.870128631591797\n",
      "Epoch 3, Loss: 1.4630377292633057, Accuracy: 34.413795471191406, Test Loss: 1.3896173238754272, Test Accuracy: 39.350650787353516\n",
      "Epoch 4, Loss: 1.3532198667526245, Accuracy: 40.10344696044922, Test Loss: 1.2954232692718506, Test Accuracy: 41.68831253051758\n",
      "Epoch 5, Loss: 1.2425270080566406, Accuracy: 46.48276138305664, Test Loss: 1.216689109802246, Test Accuracy: 46.88311767578125\n"
     ]
    }
   ],
   "source": [
    "EPOCHS = 5\n",
    "with tf.device('/device:CPU:0'):\n",
    "    for epoch in range(EPOCHS):\n",
    "        train_loss.reset_states()\n",
    "        train_accuracy.reset_states()\n",
    "        test_loss.reset_states()\n",
    "        test_accuracy.reset_states()\n",
    "\n",
    "        for images, labels in train_ds:\n",
    "            train_step(images, labels)\n",
    "        for test_images, test_labels in test_ds:\n",
    "            test_step(test_images, test_labels)\n",
    "        print(\n",
    "            f'Epoch {epoch + 1}, '\n",
    "            f'Loss: {train_loss.result()}, '\n",
    "            f'Accuracy: {train_accuracy.result() * 100}, '\n",
    "            f'Test Loss: {test_loss.result()}, '\n",
    "            f'Test Accuracy: {test_accuracy.result() * 100}')       "
   ]
  },
  {
   "cell_type": "code",
   "execution_count": null,
   "metadata": {},
   "outputs": [],
   "source": [
    " "
   ]
  }
 ],
 "metadata": {
  "kernelspec": {
   "display_name": "gpu",
   "language": "python",
   "name": "python3"
  },
  "language_info": {
   "codemirror_mode": {
    "name": "ipython",
    "version": 3
   },
   "file_extension": ".py",
   "mimetype": "text/x-python",
   "name": "python",
   "nbconvert_exporter": "python",
   "pygments_lexer": "ipython3",
   "version": "3.9.16"
  },
  "orig_nbformat": 4
 },
 "nbformat": 4,
 "nbformat_minor": 2
}
