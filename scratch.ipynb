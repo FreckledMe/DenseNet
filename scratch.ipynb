{
 "cells": [
  {
   "cell_type": "code",
   "execution_count": 2,
   "metadata": {},
   "outputs": [],
   "source": [
    "import tensorflow as tf\n",
    "from tensorflow.keras.layers import Conv2D,MaxPooling2D,concatenate,AveragePooling2D,Dropout,Dense,Softmax,BatchNormalization,ReLU\n",
    "from tensorflow import keras\n",
    "from tensorflow.keras.optimizers import Adam\n",
    "from tensorflow.keras.losses import SparseCategoricalCrossentropy\n",
    "from tensorflow.keras.metrics import SparseCategoricalAccuracy\n",
    "import tensorflow_datasets as tfds\n",
    "import cv2\n",
    "from tensorflow.keras.utils import plot_model\n",
    "import numpy as np\n",
    "import tensorflow.keras.backend as K"
   ]
  },
  {
   "cell_type": "code",
   "execution_count": null,
   "metadata": {},
   "outputs": [],
   "source": [
    "class ConvLayer(keras.Model):\n",
    "    def __init__(self):\n",
    "        super(ConvLayer,self).__init__()\n",
    "        self.batch = BatchNormalization()\n",
    "        self.relu = ReLU()\n",
    "        self.conv = Conv2D(filters,kernel)\n",
    "\n",
    "\n",
    "def conv_layer(x, filters, kernel=1, strides=1):    \n",
    "    x = BatchNormalization()(x)\n",
    "    x = ReLU()(x)\n",
    "    x = Conv2D(filters, kernel, strides=strides, padding=\"same\")(x)\n",
    "    return x   \n",
    "\n",
    "def dense_block(x, repetition, filters):\n",
    "    for _ in range(repetition):\n",
    "      y = conv_layer(x, 4 * filters)\n",
    "      y = conv_layer(y, filters, 3)\n",
    "      x = concatenate([y, x])\n",
    "    return x\n",
    "\n",
    "def transition_layer(x):\n",
    "    x = conv_layer(x, x.shape[-1]/ 2)\n",
    "    x = AvgPool2D(2, strides=2, padding=\"same\")(x)\n",
    "    return x\n",
    "\n",
    "def densenet(input_shape, n_classes, filters=32):    \n",
    "    input = Input(input_shape)\n",
    "    x = Conv2D(64, 7, strides=2, padding=\"same\")(input)\n",
    "    x = BatchNormalization()(x)\n",
    "    x = ReLU()(x)\n",
    "    x = MaxPool2D(3, strides=2, padding=\"same\")(x)    \n",
    "    for repetition in [6, 12, 24, 16]:\n",
    "       d = dense_block(x, repetition,filters)\n",
    "       x = transition_layer(d)     \n",
    "    x = GlobalAveragePooling2D()(d)\n",
    "    output = Dense(n_classes, activation=\"softmax\")(x)     \n",
    "    model = Model(input, output)\n",
    "    return model"
   ]
  }
 ],
 "metadata": {
  "kernelspec": {
   "display_name": "gpu",
   "language": "python",
   "name": "python3"
  },
  "language_info": {
   "codemirror_mode": {
    "name": "ipython",
    "version": 3
   },
   "file_extension": ".py",
   "mimetype": "text/x-python",
   "name": "python",
   "nbconvert_exporter": "python",
   "pygments_lexer": "ipython3",
   "version": "3.9.16"
  },
  "orig_nbformat": 4
 },
 "nbformat": 4,
 "nbformat_minor": 2
}
